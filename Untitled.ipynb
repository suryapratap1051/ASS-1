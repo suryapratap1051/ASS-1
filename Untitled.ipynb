{
 "cells": [
  {
   "cell_type": "code",
   "execution_count": 7,
   "id": "bace1cd3-61c9-4560-b800-fe4a21f90854",
   "metadata": {},
   "outputs": [],
   "source": [
    "import pandas as pd\n",
    "import numpy as np\n",
    "from sklearn.feature_extraction.text import TfidfVectorizer\n",
    "from sklearn.metrics.pairwise import cosine_similarity\n",
    "from sklearn.neighbors import NearestNeighbors\n",
    "import warnings\n",
    "\n",
    "warnings.filterwarnings(\"ignore\")\n"
   ]
  },
  {
   "cell_type": "code",
   "execution_count": 9,
   "id": "d4997032-3b93-407b-a448-f2a632c3b204",
   "metadata": {},
   "outputs": [
    {
     "name": "stdout",
     "output_type": "stream",
     "text": [
      "   appid                       name release_date  english         developer  \\\n",
      "0     10             Counter-Strike   2000-11-01        1             Valve   \n",
      "1     20      Team Fortress Classic   1999-04-01        1             Valve   \n",
      "2     30              Day of Defeat   2003-05-01        1             Valve   \n",
      "3     40         Deathmatch Classic   2001-06-01        1             Valve   \n",
      "4     50  Half-Life: Opposing Force   1999-11-01        1  Gearbox Software   \n",
      "\n",
      "  publisher          platforms  required_age  \\\n",
      "0     Valve  windows;mac;linux             0   \n",
      "1     Valve  windows;mac;linux             0   \n",
      "2     Valve  windows;mac;linux             0   \n",
      "3     Valve  windows;mac;linux             0   \n",
      "4     Valve  windows;mac;linux             0   \n",
      "\n",
      "                                          categories  genres  ...  \\\n",
      "0  Multi-player;Online Multi-Player;Local Multi-P...  Action  ...   \n",
      "1  Multi-player;Online Multi-Player;Local Multi-P...  Action  ...   \n",
      "2              Multi-player;Valve Anti-Cheat enabled  Action  ...   \n",
      "3  Multi-player;Online Multi-Player;Local Multi-P...  Action  ...   \n",
      "4  Single-player;Multi-player;Valve Anti-Cheat en...  Action  ...   \n",
      "\n",
      "  positive_ratings  negative_ratings  average_playtime  median_playtime  \\\n",
      "0           124534              3339             17612              317   \n",
      "1             3318               633               277               62   \n",
      "2             3416               398               187               34   \n",
      "3             1273               267               258              184   \n",
      "4             5250               288               624              415   \n",
      "\n",
      "              owners  price steam_appid  \\\n",
      "0  10000000-20000000   7.19          10   \n",
      "1   5000000-10000000   3.99          20   \n",
      "2   5000000-10000000   3.99          30   \n",
      "3   5000000-10000000   3.99          40   \n",
      "4   5000000-10000000   3.99          50   \n",
      "\n",
      "                                detailed_description  \\\n",
      "0  Play the world's number 1 online action game. ...   \n",
      "1  One of the most popular online action games of...   \n",
      "2  Enlist in an intense brand of Axis vs. Allied ...   \n",
      "3  Enjoy fast-paced multiplayer gaming with Death...   \n",
      "4  Return to the Black Mesa Research Facility as ...   \n",
      "\n",
      "                                      about_the_game  \\\n",
      "0  Play the world's number 1 online action game. ...   \n",
      "1  One of the most popular online action games of...   \n",
      "2  Enlist in an intense brand of Axis vs. Allied ...   \n",
      "3  Enjoy fast-paced multiplayer gaming with Death...   \n",
      "4  Return to the Black Mesa Research Facility as ...   \n",
      "\n",
      "                                   short_description  \n",
      "0  Play the world's number 1 online action game. ...  \n",
      "1  One of the most popular online action games of...  \n",
      "2  Enlist in an intense brand of Axis vs. Allied ...  \n",
      "3  Enjoy fast-paced multiplayer gaming with Death...  \n",
      "4  Return to the Black Mesa Research Facility as ...  \n",
      "\n",
      "[5 rows x 22 columns]\n"
     ]
    }
   ],
   "source": [
    "def load_and_merge_data(filepath1, filepath2):\n",
    "    \"\"\"\n",
    "    Load and merge steam.csv and steam_description_data.csv on appid.\n",
    "    \"\"\"\n",
    "    # Load datasets\n",
    "    steam_data = pd.read_csv(filepath1)\n",
    "    description_data = pd.read_csv(filepath2)\n",
    "\n",
    "    # Merge datasets on appid\n",
    "    merged_data = pd.merge(steam_data, description_data, left_on='appid', right_on='steam_appid')\n",
    "\n",
    "    # Drop duplicates and handle missing values\n",
    "    merged_data.drop_duplicates(subset=['appid'], inplace=True)\n",
    "    merged_data.dropna(subset=['detailed_description', 'genres'], inplace=True)\n",
    "    \n",
    "    return merged_data\n",
    "\n",
    "# Example Usage\n",
    "data = load_and_merge_data('steam.csv', 'steam_description_data.csv')\n",
    "print(data.head())\n"
   ]
  },
  {
   "cell_type": "code",
   "execution_count": 12,
   "id": "b8cc9e70-c377-4fe9-be20-1024805cecff",
   "metadata": {},
   "outputs": [],
   "source": [
    "import re\n",
    "\n",
    "def preprocess_text(text):\n",
    "    \"\"\"\n",
    "    Clean and normalize text data.\n",
    "    \"\"\"\n",
    "    # Convert to lowercase\n",
    "    text = text.lower()\n",
    "    # Remove HTML tags\n",
    "    text = re.sub(r'<.*?>', '', text)\n",
    "    # Remove non-alphanumeric characters\n",
    "    text = re.sub(r'[^a-zA-Z0-9\\s]', '', text)\n",
    "    return text\n",
    "\n",
    "# Apply preprocessing\n",
    "data['processed_description'] = data['detailed_description'].apply(preprocess_text)\n"
   ]
  },
  {
   "cell_type": "code",
   "execution_count": 16,
   "id": "712956f3-5aa2-4e90-8800-3d6a2312f21a",
   "metadata": {},
   "outputs": [],
   "source": [
    "def create_tfidf_features(text_data):\n",
    "    \"\"\"\n",
    "    Create TF-IDF vectors from game descriptions.\n",
    "    \"\"\"\n",
    "    vectorizer = TfidfVectorizer(stop_words='english', max_features=5000)\n",
    "    tfidf_matrix = vectorizer.fit_transform(text_data)\n",
    "    return tfidf_matrix\n",
    "\n",
    "# Generate TF-IDF matrix\n",
    "tfidf_matrix = create_tfidf_features(data['processed_description'])\n"
   ]
  },
  {
   "cell_type": "code",
   "execution_count": 18,
   "id": "ea9aa5d1-6811-4bd1-b7d5-6e345500a2af",
   "metadata": {},
   "outputs": [],
   "source": [
    "def create_hybrid_features(tfidf_matrix, metadata):\n",
    "    \"\"\"\n",
    "    Combine text vectors with metadata features.\n",
    "    \"\"\"\n",
    "    # One-hot encode genres\n",
    "    genres_onehot = pd.get_dummies(metadata['genres'], prefix='genre')\n",
    "    \n",
    "    # Combine TF-IDF and one-hot encoding\n",
    "    hybrid_features = np.hstack((tfidf_matrix.toarray(), genres_onehot.values))\n",
    "    return hybrid_features\n",
    "\n",
    "# Generate hybrid features\n",
    "hybrid_features = create_hybrid_features(tfidf_matrix, data)\n"
   ]
  },
  {
   "cell_type": "code",
   "execution_count": 20,
   "id": "d5500b2a-64d1-40bd-a6ff-38f7fb66d287",
   "metadata": {},
   "outputs": [],
   "source": [
    "def compute_similarity(feature_matrix):\n",
    "    \"\"\"\n",
    "    Compute similarity using cosine similarity.\n",
    "    \"\"\"\n",
    "    similarity_matrix = cosine_similarity(feature_matrix)\n",
    "    return similarity_matrix\n",
    "\n",
    "# Compute similarity matrix\n",
    "similarity_matrix = compute_similarity(tfidf_matrix)\n"
   ]
  },
  {
   "cell_type": "code",
   "execution_count": 26,
   "id": "ea0df941-3bbf-4831-adbd-d8b3e1848b87",
   "metadata": {},
   "outputs": [
    {
     "name": "stdout",
     "output_type": "stream",
     "text": [
      "        appid                          name  \\\n",
      "115      3900  Sid Meier's Civilization® IV   \n",
      "9         220                   Half-Life 2   \n",
      "12063  557040                       99Vidas   \n",
      "1916   248570                      Toribash   \n",
      "831     45700               Devil May Cry 4   \n",
      "\n",
      "                                   genres  \n",
      "115                              Strategy  \n",
      "9                                  Action  \n",
      "12063                        Action;Indie  \n",
      "1916   Action;Free to Play;Indie;Strategy  \n",
      "831                      Action;Adventure  \n"
     ]
    }
   ],
   "source": [
    "def get_recommendations(game_id, data, similarity_matrix, n=5):\n",
    "    \"\"\"\n",
    "    Generate top-N similar game recommendations.\n",
    "    \"\"\"\n",
    "    # Find index of the game by appid\n",
    "    game_index = data.index[data['appid'] == game_id][0]\n",
    "    similarity_scores = similarity_matrix[game_index]\n",
    "    similar_games = sorted(list(enumerate(similarity_scores)), key=lambda x: x[1], reverse=True)\n",
    "    recommended_indices = [i[0] for i in similar_games[1:n+1]]  # Exclude the game itself\n",
    "    return data.iloc[recommended_indices][['appid', 'name', 'genres']]\n",
    "\n",
    "# Example recommendations\n",
    "recommendations = get_recommendations(game_id=730, data=data, similarity_matrix=similarity_matrix, n=5)\n",
    "print(recommendations)\n"
   ]
  },
  {
   "cell_type": "code",
   "execution_count": 28,
   "id": "bdd15705-e2ee-42e3-a986-8a9e60601173",
   "metadata": {},
   "outputs": [],
   "source": [
    "def evaluate_performance():\n",
    "    \"\"\"\n",
    "    Evaluate computation time, memory usage, and quality of recommendations.\n",
    "    \"\"\"\n",
    "    # Placeholder: You can log performance metrics here\n",
    "    print(\"TF-IDF Vectorization: Done\")\n",
    "    print(\"Similarity Computation: Done\")\n",
    "    print(\"Recommendations Generated: Done\")\n"
   ]
  },
  {
   "cell_type": "code",
   "execution_count": 30,
   "id": "4093b7a4-d9ce-448e-a952-d5bba43cb7be",
   "metadata": {},
   "outputs": [],
   "source": [
    "def show_example_recommendations():\n",
    "    \"\"\"\n",
    "    Show recommendations for a few sample games.\n",
    "    \"\"\"\n",
    "    for appid in [730, 440, 570]:  # Example appids\n",
    "        print(f\"Recommendations for Game ID {appid}:\")\n",
    "        print(get_recommendations(appid, data, similarity_matrix, n=5))\n",
    "        print(\"\\n\")\n"
   ]
  },
  {
   "cell_type": "code",
   "execution_count": 35,
   "id": "fb799756-ed9f-4ffd-8247-ae5b7feefd81",
   "metadata": {},
   "outputs": [
    {
     "name": "stdout",
     "output_type": "stream",
     "text": [
      "Recommendations for Game ID 730:\n",
      "        appid                          name  \\\n",
      "115      3900  Sid Meier's Civilization® IV   \n",
      "9         220                   Half-Life 2   \n",
      "12063  557040                       99Vidas   \n",
      "1916   248570                      Toribash   \n",
      "831     45700               Devil May Cry 4   \n",
      "\n",
      "                                   genres  \n",
      "115                              Strategy  \n",
      "9                                  Action  \n",
      "12063                        Action;Indie  \n",
      "1916   Action;Free to Play;Indie;Strategy  \n",
      "831                      Action;Adventure  \n",
      "\n",
      "\n",
      "Recommendations for Game ID 440:\n",
      "         appid                                               name  \\\n",
      "26561  1025070   淑女同萌！-New Division- / Hello Lady! -New Division-   \n",
      "6031    380840                                          Teeworlds   \n",
      "1           20                              Team Fortress Classic   \n",
      "139       4780                   Medieval II: Total War™ Kingdoms   \n",
      "667      35450  Red Orchestra 2: Heroes of Stalingrad with Ris...   \n",
      "\n",
      "                                        genres  \n",
      "26561                                Adventure  \n",
      "6031                 Action;Free to Play;Indie  \n",
      "1                                       Action  \n",
      "139                                   Strategy  \n",
      "667    Action;Massively Multiplayer;Simulation  \n",
      "\n",
      "\n",
      "Recommendations for Game ID 570:\n",
      "        appid                              name  \\\n",
      "24129  919220                   Destiny or Fate   \n",
      "24202  922530              Bestiary of Sigillum   \n",
      "14587  633970                  Heroes Never Die   \n",
      "16036  677120             Heroes of Hammerwatch   \n",
      "1977   251450  Heroes of Havoc: Idle Adventures   \n",
      "\n",
      "                                    genres  \n",
      "24129      Indie;RPG;Strategy;Early Access  \n",
      "24202                             Strategy  \n",
      "14587  Action;Adventure;Indie;Early Access  \n",
      "16036                     Action;Indie;RPG  \n",
      "1977                      Free to Play;RPG  \n",
      "\n",
      "\n"
     ]
    }
   ],
   "source": [
    "show_example_recommendations()"
   ]
  },
  {
   "cell_type": "code",
   "execution_count": null,
   "id": "c2b5efb9-d7e0-40e6-b480-368a7d656723",
   "metadata": {},
   "outputs": [],
   "source": []
  },
  {
   "cell_type": "code",
   "execution_count": null,
   "id": "1fcbb795-8375-4fed-8cf7-a54cf6ec68ec",
   "metadata": {},
   "outputs": [],
   "source": []
  },
  {
   "cell_type": "code",
   "execution_count": null,
   "id": "a74722d0-98c9-426e-b531-8ba05a0bef72",
   "metadata": {},
   "outputs": [],
   "source": []
  },
  {
   "cell_type": "code",
   "execution_count": null,
   "id": "08f1e6f3-23a8-428f-8b0a-61eef31ad63d",
   "metadata": {},
   "outputs": [],
   "source": []
  }
 ],
 "metadata": {
  "kernelspec": {
   "display_name": "Python 3 (ipykernel)",
   "language": "python",
   "name": "python3"
  },
  "language_info": {
   "codemirror_mode": {
    "name": "ipython",
    "version": 3
   },
   "file_extension": ".py",
   "mimetype": "text/x-python",
   "name": "python",
   "nbconvert_exporter": "python",
   "pygments_lexer": "ipython3",
   "version": "3.11.7"
  }
 },
 "nbformat": 4,
 "nbformat_minor": 5
}
